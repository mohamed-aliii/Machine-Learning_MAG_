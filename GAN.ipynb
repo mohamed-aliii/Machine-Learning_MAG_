{
  "cells": [
    {
      "cell_type": "code",
      "execution_count": 1,
      "metadata": {
        "id": "RW4JdJYXtHXP"
      },
      "outputs": [],
      "source": [
        "import tensorflow as tf\n",
        "from tensorflow.keras import layers\n",
        "import numpy as np\n",
        "import matplotlib.pyplot as plt"
      ]
    },
    {
      "cell_type": "code",
      "execution_count": 2,
      "metadata": {
        "colab": {
          "base_uri": "https://localhost:8080/"
        },
        "id": "fBsUUKFVtJi7",
        "outputId": "5a5f9995-e91a-4981-a1c5-3a5095643ee9"
      },
      "outputs": [],
      "source": [
        "(x_train, _), (_, _) = tf.keras.datasets.mnist.load_data()\n",
        "x_train = x_train / 127.5 - 1.0  # Normalize to [-1, 1]\n",
        "x_train = np.expand_dims(x_train, axis=-1)  # Add channel dimension\n",
        "\n",
        "BUFFER_SIZE = 60000\n",
        "BATCH_SIZE = 256\n",
        "LATENT_DIM = 100  # Size of the random noise vector\n",
        "\n",
        "# Create batches of data\n",
        "train_dataset = tf.data.Dataset.from_tensor_slices(x_train).shuffle(BUFFER_SIZE).batch(BATCH_SIZE)"
      ]
    },
    {
      "cell_type": "code",
      "execution_count": 3,
      "metadata": {
        "id": "CPHFqcG1tals"
      },
      "outputs": [],
      "source": [
        "def build_generator():\n",
        "    model = tf.keras.Sequential()\n",
        "    model.add(layers.Dense(7*7*256, input_dim=LATENT_DIM))\n",
        "    model.add(layers.Reshape((7, 7, 256)))\n",
        "    model.add(layers.BatchNormalization())\n",
        "    model.add(layers.ReLU())\n",
        "\n",
        "    model.add(layers.Conv2DTranspose(128, (5, 5), strides=2, padding='same'))\n",
        "    model.add(layers.BatchNormalization())\n",
        "    model.add(layers.ReLU())\n",
        "\n",
        "    model.add(layers.Conv2DTranspose(64, (5, 5), strides=2, padding='same'))\n",
        "    model.add(layers.BatchNormalization())\n",
        "    model.add(layers.ReLU())\n",
        "\n",
        "    model.add(layers.Conv2DTranspose(1, (5, 5), activation='tanh', strides=1, padding='same'))\n",
        "    return model"
      ]
    },
    {
      "cell_type": "code",
      "execution_count": 4,
      "metadata": {
        "id": "7QEWsdUNthEj"
      },
      "outputs": [],
      "source": [
        "def build_discriminator():\n",
        "    model = tf.keras.Sequential()\n",
        "    model.add(layers.Conv2D(64, (5, 5), strides=2, padding='same', input_shape=[28, 28, 1]))\n",
        "    model.add(layers.LeakyReLU(0.2))\n",
        "    model.add(layers.Dropout(0.3))\n",
        "\n",
        "    model.add(layers.Conv2D(128, (5, 5), strides=2, padding='same'))\n",
        "    model.add(layers.LeakyReLU(0.2))\n",
        "    model.add(layers.Dropout(0.3))\n",
        "\n",
        "    model.add(layers.Flatten())\n",
        "    model.add(layers.Dense(1, activation='sigmoid'))\n",
        "    return model"
      ]
    },
    {
      "cell_type": "code",
      "execution_count": 5,
      "metadata": {
        "colab": {
          "base_uri": "https://localhost:8080/"
        },
        "id": "oLJlWOGatnkO",
        "outputId": "a4daf6cd-2667-4ef8-8324-fb78ac9d1057"
      },
      "outputs": [],
      "source": [
        "generator = build_generator()\n",
        "discriminator = build_discriminator()\n",
        "\n",
        "# Loss function\n",
        "cross_entropy = tf.keras.losses.BinaryCrossentropy(from_logits=True)\n",
        "\n",
        "# Optimizers\n",
        "generator_optimizer = tf.keras.optimizers.Adam(1e-4)\n",
        "discriminator_optimizer = tf.keras.optimizers.Adam(1e-4)"
      ]
    },
    {
      "cell_type": "code",
      "execution_count": 6,
      "metadata": {
        "id": "ypDbZURAts-W"
      },
      "outputs": [],
      "source": [
        "def discriminator_loss(real_output, fake_output):\n",
        "    real_loss = cross_entropy(tf.ones_like(real_output), real_output)\n",
        "    fake_loss = cross_entropy(tf.zeros_like(fake_output), fake_output)\n",
        "    total_loss = real_loss + fake_loss\n",
        "    return total_loss\n",
        "\n",
        "def generator_loss(fake_output):\n",
        "    return cross_entropy(tf.ones_like(fake_output), fake_output)"
      ]
    },
    {
      "cell_type": "code",
      "execution_count": 7,
      "metadata": {
        "id": "5qkO4UlUty_f"
      },
      "outputs": [],
      "source": [
        "EPOCHS = 50\n",
        "\n",
        "@tf.function\n",
        "def train_step(images):\n",
        "    noise = tf.random.normal([BATCH_SIZE, LATENT_DIM])\n",
        "\n",
        "    with tf.GradientTape() as disc_tape, tf.GradientTape() as gen_tape:\n",
        "        generated_images = generator(noise, training=True)\n",
        "\n",
        "        real_output = discriminator(images, training=True)\n",
        "        fake_output = discriminator(generated_images, training=True)\n",
        "\n",
        "        disc_loss = discriminator_loss(real_output, fake_output)\n",
        "        gen_loss = generator_loss(fake_output)\n",
        "\n",
        "    gradients_of_generator = gen_tape.gradient(gen_loss, generator.trainable_variables)\n",
        "    gradients_of_discriminator = disc_tape.gradient(disc_loss, discriminator.trainable_variables)\n",
        "\n",
        "    generator_optimizer.apply_gradients(zip(gradients_of_generator, generator.trainable_variables))\n",
        "    discriminator_optimizer.apply_gradients(zip(gradients_of_discriminator, discriminator.trainable_variables))\n",
        "\n",
        "    return gen_loss, disc_loss"
      ]
    },
    {
      "cell_type": "code",
      "execution_count": 8,
      "metadata": {
        "id": "sjLRQkhft4Qp"
      },
      "outputs": [],
      "source": [
        "def train(dataset, epochs):\n",
        "    for epoch in range(epochs):\n",
        "        for batch in dataset:\n",
        "            gen_loss, disc_loss = train_step(batch)\n",
        "\n",
        "        print(f'Epoch {epoch+1}/{epochs}, Gen Loss: {gen_loss}, Disc Loss: {disc_loss}')\n",
        "\n",
        "        if (epoch + 1) % 10 == 0:\n",
        "            generate_and_save_images(generator, epoch + 1)"
      ]
    },
    {
      "cell_type": "code",
      "execution_count": 9,
      "metadata": {
        "colab": {
          "base_uri": "https://localhost:8080/"
        },
        "id": "pTyNiDMVt9pY",
        "outputId": "1ad13517-caee-4f82-fd9b-ec86927b6dff"
      },
      "outputs": [
        {
          "name": "stderr",
          "output_type": "stream",
          "text": [
            "c:\\Users\\DELL\\anaconda3\\envs\\deep\\lib\\site-packages\\keras\\backend.py:5673: UserWarning: \"`binary_crossentropy` received `from_logits=True`, but the `output` argument was produced by a Sigmoid activation and thus does not represent logits. Was this intended?\n",
            "  output, from_logits = _get_logits(\n"
          ]
        },
        {
          "name": "stdout",
          "output_type": "stream",
          "text": [
            "Epoch 1/50, Gen Loss: 1.565866470336914, Disc Loss: 0.6763666868209839\n",
            "Epoch 2/50, Gen Loss: 3.1118648052215576, Disc Loss: 0.14529332518577576\n",
            "Epoch 3/50, Gen Loss: 4.572444915771484, Disc Loss: 0.03718334808945656\n",
            "Epoch 4/50, Gen Loss: 3.2348127365112305, Disc Loss: 0.13392126560211182\n",
            "Epoch 5/50, Gen Loss: 4.987726211547852, Disc Loss: 0.02469561994075775\n",
            "Epoch 6/50, Gen Loss: 3.1647543907165527, Disc Loss: 0.09895134717226028\n",
            "Epoch 7/50, Gen Loss: 3.2707204818725586, Disc Loss: 0.12693478167057037\n",
            "Epoch 8/50, Gen Loss: 3.699047327041626, Disc Loss: 0.07047871500253677\n",
            "Epoch 9/50, Gen Loss: 3.3946077823638916, Disc Loss: 0.14331109821796417\n",
            "Epoch 10/50, Gen Loss: 5.017736434936523, Disc Loss: 0.02270427718758583\n",
            "Epoch 11/50, Gen Loss: 5.458872318267822, Disc Loss: 0.0084476163610816\n",
            "Epoch 12/50, Gen Loss: 3.2408812046051025, Disc Loss: 0.12731176614761353\n",
            "Epoch 13/50, Gen Loss: 3.5061733722686768, Disc Loss: 0.2912716269493103\n",
            "Epoch 14/50, Gen Loss: 3.1584277153015137, Disc Loss: 0.17672157287597656\n",
            "Epoch 15/50, Gen Loss: 1.4411394596099854, Disc Loss: 0.9195318222045898\n",
            "Epoch 16/50, Gen Loss: 2.3174281120300293, Disc Loss: 0.40925395488739014\n",
            "Epoch 17/50, Gen Loss: 1.597069263458252, Disc Loss: 1.0278164148330688\n",
            "Epoch 18/50, Gen Loss: 1.500632643699646, Disc Loss: 0.7268998622894287\n",
            "Epoch 19/50, Gen Loss: 0.8239495754241943, Disc Loss: 1.6275420188903809\n",
            "Epoch 20/50, Gen Loss: 1.3300029039382935, Disc Loss: 0.8533387184143066\n",
            "Epoch 21/50, Gen Loss: 1.1156562566757202, Disc Loss: 1.1007952690124512\n",
            "Epoch 22/50, Gen Loss: 1.3043227195739746, Disc Loss: 0.9341782331466675\n",
            "Epoch 23/50, Gen Loss: 1.561621069908142, Disc Loss: 0.6517555713653564\n",
            "Epoch 24/50, Gen Loss: 1.260121464729309, Disc Loss: 1.0831068754196167\n",
            "Epoch 25/50, Gen Loss: 1.2604835033416748, Disc Loss: 0.8270962238311768\n",
            "Epoch 26/50, Gen Loss: 1.468896746635437, Disc Loss: 0.9465498328208923\n",
            "Epoch 27/50, Gen Loss: 1.3798408508300781, Disc Loss: 0.8697630167007446\n",
            "Epoch 28/50, Gen Loss: 1.2788326740264893, Disc Loss: 0.8289188146591187\n",
            "Epoch 29/50, Gen Loss: 1.159390926361084, Disc Loss: 1.1576979160308838\n",
            "Epoch 30/50, Gen Loss: 0.9606216549873352, Disc Loss: 1.3354730606079102\n",
            "Epoch 31/50, Gen Loss: 0.9913938045501709, Disc Loss: 1.1701254844665527\n",
            "Epoch 32/50, Gen Loss: 1.0318267345428467, Disc Loss: 1.0327104330062866\n",
            "Epoch 33/50, Gen Loss: 0.9417992830276489, Disc Loss: 1.2870843410491943\n",
            "Epoch 34/50, Gen Loss: 0.9961321353912354, Disc Loss: 1.1460559368133545\n",
            "Epoch 35/50, Gen Loss: 1.103567123413086, Disc Loss: 1.0771839618682861\n",
            "Epoch 36/50, Gen Loss: 0.775621771812439, Disc Loss: 1.4389625787734985\n",
            "Epoch 37/50, Gen Loss: 0.739572286605835, Disc Loss: 1.2985979318618774\n",
            "Epoch 38/50, Gen Loss: 0.9605804681777954, Disc Loss: 1.0856947898864746\n",
            "Epoch 39/50, Gen Loss: 0.9115564227104187, Disc Loss: 1.2714253664016724\n",
            "Epoch 40/50, Gen Loss: 0.8868390917778015, Disc Loss: 1.3401618003845215\n",
            "Epoch 41/50, Gen Loss: 1.0260449647903442, Disc Loss: 1.1470167636871338\n",
            "Epoch 42/50, Gen Loss: 0.7644076347351074, Disc Loss: 1.436338186264038\n",
            "Epoch 43/50, Gen Loss: 0.8394445776939392, Disc Loss: 1.1420164108276367\n",
            "Epoch 44/50, Gen Loss: 0.9119539260864258, Disc Loss: 1.10630464553833\n",
            "Epoch 45/50, Gen Loss: 0.8405235409736633, Disc Loss: 1.303570032119751\n",
            "Epoch 46/50, Gen Loss: 0.8588215112686157, Disc Loss: 1.2699731588363647\n",
            "Epoch 47/50, Gen Loss: 0.8012743592262268, Disc Loss: 1.3975543975830078\n",
            "Epoch 48/50, Gen Loss: 0.7335435152053833, Disc Loss: 1.517500400543213\n",
            "Epoch 49/50, Gen Loss: 0.862189769744873, Disc Loss: 1.3404572010040283\n",
            "Epoch 50/50, Gen Loss: 0.8183614015579224, Disc Loss: 1.3841094970703125\n"
          ]
        }
      ],
      "source": [
        "def generate_and_save_images(model, epoch, test_input=None):\n",
        "    if test_input is None:\n",
        "        test_input = tf.random.normal([16, LATENT_DIM])\n",
        "\n",
        "    predictions = model(test_input, training=False)\n",
        "    fig = plt.figure(figsize=(4, 4))\n",
        "\n",
        "    for i in range(predictions.shape[0]):\n",
        "        plt.subplot(4, 4, i+1)\n",
        "        plt.imshow(predictions[i, :, :, 0] * 127.5 + 127.5, cmap='gray')\n",
        "        plt.axis('off')\n",
        "\n",
        "    plt.savefig(f'image_at_epoch_{epoch}.png')\n",
        "    plt.close()\n",
        "\n",
        "# Start training the model\n",
        "train(train_dataset, EPOCHS)"
      ]
    },
    {
      "cell_type": "code",
      "execution_count": 10,
      "metadata": {},
      "outputs": [],
      "source": [
        "import matplotlib.pyplot as plt\n",
        "import numpy as np\n",
        "\n",
        "def test_and_display(real_image, generator, noise_dim=100):\n",
        "    # Generate a fake image from random noise\n",
        "    noise = np.random.randn(1, noise_dim)\n",
        "    generated_image = generator.predict(noise)\n",
        "    \n",
        "    # Rescale generated image to [0, 1] (for visualization)\n",
        "    generated_image = 0.5 * generated_image + 0.5\n",
        "    \n",
        "    # Plot real and generated image side by side\n",
        "    plt.figure(figsize=(6, 3))\n",
        "    \n",
        "    # Real image\n",
        "    plt.subplot(1, 2, 1)\n",
        "    plt.imshow(real_image.squeeze(), cmap='gray')\n",
        "    plt.title(\"Real Image\")\n",
        "    plt.axis('off')\n",
        "    \n",
        "    # Generated image\n",
        "    plt.subplot(1, 2, 2)\n",
        "    plt.imshow(generated_image.squeeze(), cmap='gray')\n",
        "    plt.title(\"Generated Image\")\n",
        "    plt.axis('off')\n",
        "    \n",
        "    plt.tight_layout()\n",
        "    plt.show()\n"
      ]
    },
    {
      "cell_type": "code",
      "execution_count": 47,
      "metadata": {},
      "outputs": [
        {
          "name": "stdout",
          "output_type": "stream",
          "text": [
            "1/1 [==============================] - 0s 19ms/step\n"
          ]
        },
        {
          "data": {
            "image/png": "[encoded data removed]",
            "text/plain": [
              "<Figure size 600x300 with 2 Axes>"
            ]
          },
          "metadata": {},
          "output_type": "display_data"
        }
      ],
      "source": [
        "test_and_display(x_train[555], generator, noise_dim=100)"
      ]
    },
    {
      "cell_type": "code",
      "execution_count": 32,
      "metadata": {},
      "outputs": [
        {
          "name": "stdout",
          "output_type": "stream",
          "text": [
            "1/1 [==============================] - 0s 18ms/step\n"
          ]
        },
        {
          "data": {
            "image/png": "[encoded data removed]",
            "text/plain": [
              "<Figure size 600x300 with 2 Axes>"
            ]
          },
          "metadata": {},
          "output_type": "display_data"
        }
      ],
      "source": [
        "test_and_display(x_train[5555], generator, noise_dim=100)"
      ]
    },
    {
      "cell_type": "code",
      "execution_count": 85,
      "metadata": {},
      "outputs": [
        {
          "name": "stdout",
          "output_type": "stream",
          "text": [
            "1/1 [==============================] - 0s 18ms/step\n"
          ]
        },
        {
          "data": {
            "image/png": "[encoded data removed]",
            "text/plain": [
              "<Figure size 600x300 with 2 Axes>"
            ]
          },
          "metadata": {},
          "output_type": "display_data"
        }
      ],
      "source": [
        "test_and_display(x_train[10000], generator, noise_dim=100)"
      ]
    }
  ],
  "metadata": {
    "colab": {
      "provenance": []
    },
    "kernelspec": {
      "display_name": "deep",
      "language": "python",
      "name": "python3"
    },
    "language_info": {
      "codemirror_mode": {
        "name": "ipython",
        "version": 3
      },
      "file_extension": ".py",
      "mimetype": "text/x-python",
      "name": "python",
      "nbconvert_exporter": "python",
      "pygments_lexer": "ipython3",
      "version": "3.10.14"
    }
  },
  "nbformat": 4,
  "nbformat_minor": 0
}
